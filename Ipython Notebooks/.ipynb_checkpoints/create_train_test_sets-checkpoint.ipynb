{
 "metadata": {
  "name": ""
 },
 "nbformat": 3,
 "nbformat_minor": 0,
 "worksheets": [
  {
   "cells": [
    {
     "cell_type": "code",
     "collapsed": false,
     "input": [
      "import numpy as np\n",
      "import pandas as pd\n",
      "import json\n",
      "from sklearn.cross_validation import train_test_split"
     ],
     "language": "python",
     "metadata": {},
     "outputs": [],
     "prompt_number": 30
    },
    {
     "cell_type": "code",
     "collapsed": false,
     "input": [
      "# Read the csv dataset file\n",
      "data = pd.read_csv('../Datasets/phising.csv')\n",
      "\n",
      "# Set a random seed so that we can reproduce the results\n",
      "np.random.seed(1234)\n",
      "\n",
      "# Split the dataset into train and test sets\n",
      "train, test = train_test_split(data, test_size = 0.25,\n",
      "                               random_state = 42)"
     ],
     "language": "python",
     "metadata": {},
     "outputs": [],
     "prompt_number": 31
    },
    {
     "cell_type": "code",
     "collapsed": false,
     "input": [
      "# Column names for the dataset\n",
      "col_names = [\"has_ip\", \"long_url\", \"short_service\", \"has_at\", \"double_slash_redirect\",\n",
      "           \"pref_suf\", \"has_sub_domain\", \"ssl_state\", \"long_domain\", \"favicon\", \"port\",\n",
      "           \"https_token\", \"req_url\", \"url_of_anchor\", \"tag_links\", \"SFH\", \n",
      "           \"submit_to_email\", \"abnormal_url\", \"redirect\", \"mouseover\", \"right_click\",\n",
      "           \"popup\", \"iframe\", \"domain_Age\", \"dns_record\", \"traffic\", \"page_rank\",\n",
      "           \"google_index\", \"links_to_page\", \"stats_report\", \"target\"]"
     ],
     "language": "python",
     "metadata": {},
     "outputs": [],
     "prompt_number": 32
    },
    {
     "cell_type": "code",
     "collapsed": false,
     "input": [
      "# Create dataframes from train and test arrays\n",
      "train_df = pd.DataFrame(train, columns = col_names)\n",
      "test_df = pd.DataFrame(test, columns = col_names)"
     ],
     "language": "python",
     "metadata": {},
     "outputs": [],
     "prompt_number": 33
    },
    {
     "cell_type": "code",
     "collapsed": false,
     "input": [
      "# create features and target dataframes for test set\n",
      "test_X = test_df.drop('target', axis = 1)\n",
      "test_y = pd.DataFrame(test_df['target'])"
     ],
     "language": "python",
     "metadata": {},
     "outputs": [],
     "prompt_number": 34
    },
    {
     "cell_type": "code",
     "collapsed": false,
     "input": [
      "# Export train and test datasets to CSV files\n",
      "train_df.to_csv(\"train.csv\", index = False)\n",
      "test_X.to_csv(\"test.csv\", index = False)\n",
      "test_y.to_csv(\"test_target.csv\", index = False)"
     ],
     "language": "python",
     "metadata": {},
     "outputs": [],
     "prompt_number": 36
    }
   ],
   "metadata": {}
  }
 ]
}